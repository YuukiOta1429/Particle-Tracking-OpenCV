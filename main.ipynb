{
 "cells": [
  {
   "cell_type": "markdown",
   "metadata": {},
   "source": [
    "## Packages"
   ]
  },
  {
   "cell_type": "code",
   "execution_count": 2,
   "metadata": {},
   "outputs": [
    {
     "name": "stdout",
     "output_type": "stream",
     "text": [
      "4.6.0\n"
     ]
    }
   ],
   "source": [
    "from utils import *\n",
    "import glob,os,os.path, numpy as np\n",
    "import matplotlib.pyplot as plt"
   ]
  },
  {
   "cell_type": "markdown",
   "metadata": {},
   "source": [
    "## Main Section"
   ]
  },
  {
   "cell_type": "code",
   "execution_count": null,
   "metadata": {},
   "outputs": [],
   "source": [
    "#----------------------ROOT folder setup---------------------#\n",
    "Root1 = \"./Brownian_motion\"\n",
    "Root2 = \"./Export\""
   ]
  },
  {
   "cell_type": "code",
   "execution_count": null,
   "metadata": {},
   "outputs": [],
   "source": [
    "#----------------------Envs folder setup---------------------#\n",
    "# Create folder \"TrackFile\"\n",
    "root_dir = './Export/TrackFile'\n",
    "groups = ['1', '2', '3', '4', '5','Free','Laser'] # Named after group\n",
    "makefolders(root_dir,subfolders=groups)\n",
    "# Create folder \"RawData\"\n",
    "if os.path.exists(\"./Export/RawData\") == False:\n",
    "    os.mkdir(\"./Export/RawData\")"
   ]
  },
  {
   "cell_type": "code",
   "execution_count": null,
   "metadata": {},
   "outputs": [],
   "source": [
    "#----------------------Convert to animation---------------------#\n",
    "# Convert sequenes of images(.tif) into animantion(.mp4) -/RawData\n",
    "for index in groups:\n",
    "    SrcFolder=f\"{Root1}/{index}\"\n",
    "    OutFolder=f\"{Root2}/RawData\"\n",
    "    IMG2MP4(SrcFolder, OutFolder, OutName=f'{index}', FPS=5)"
   ]
  },
  {
   "cell_type": "code",
   "execution_count": null,
   "metadata": {},
   "outputs": [],
   "source": [
    "#-------------------------Track through ROI------------------------# \n",
    "for index in groups:\n",
    "    SrcFolder=f\"./Brownian_motion/{index}\"\n",
    "    OutFolder=f\"{Root2}/TrackFile\"\n",
    "    Track(SrcFolder, OutFolder, OutName=f\"{index}\", SavePlot=True)"
   ]
  },
  {
   "cell_type": "code",
   "execution_count": null,
   "metadata": {},
   "outputs": [],
   "source": [
    "#----------------------Convert to animationn---------------------#\n",
    "# Convert sequenes of images(.jpg) into animantion(.mp4/.gif) -/TrackFile\n",
    "print(f\"\\nConverting into animation...\")\n",
    "for index in groups:\n",
    "    SrcFolder=f\"{Root2}/TrackFile/{index}\"\n",
    "    OutFolder=f\"{Root2}/TrackFile\"\n",
    "    IMG2MP4(SrcFolder, OutFolder, OutName=f'Track_{index}', FPS=5)\n",
    "    PNG2GIF(SrcFolder, OutFolder, OutName=f\"Track_{index}\",ImgFormat=\"png\", duration=120)\n",
    "\n",
    "print(\"////\"*18)"
   ]
  },
  {
   "cell_type": "markdown",
   "metadata": {},
   "source": [
    "## OpenCV image processing methods"
   ]
  },
  {
   "cell_type": "code",
   "execution_count": 5,
   "metadata": {},
   "outputs": [
    {
     "name": "stdout",
     "output_type": "stream",
     "text": [
      "Picture size:(65, 65, 3), picture type:uint8\n"
     ]
    },
    {
     "data": {
      "text/plain": [
       "(-0.5, 64.5, 64.5, -0.5)"
      ]
     },
     "execution_count": 5,
     "metadata": {},
     "output_type": "execute_result"
    },
    {
     "data": {
      "image/png": "[encoded data removed]",
      "text/plain": [
       "<Figure size 432x288 with 1 Axes>"
      ]
     },
     "metadata": {
      "needs_background": "light"
     },
     "output_type": "display_data"
    }
   ],
   "source": [
    "import cv2\n",
    "import numpy as np\n",
    "import matplotlib.pyplot as plt\n",
    "\n",
    "im = cv2.imread(\"./Brownian _motion/1_laser1/laser1_0001.tif\")\n",
    "print(f\"Picture size:{im.shape}, picture type:{im.dtype}\")\n",
    "\n",
    "plt.imshow(im, cmap=\"gray\");plt.axis('off')\n",
    "blur = cv2.GaussianBlur(im, (11, 11), 0)\n",
    "plt.imshow(blur, cmap='gray');plt.axis('off')\n",
    "\n",
    "canny = cv2.Canny(blur, 30, 150, 3)\n",
    "plt.imshow(canny, cmap='gray');plt.axis('off')\n",
    "\n",
    "dilated = cv2.dilate(canny, (1, 1), iterations=0)\n",
    "plt.imshow(dilated, cmap='gray');plt.axis('off')\n",
    "\n",
    "(cnt, hierarchy) = cv2.findContours(dilated.copy(), cv2.RETR_EXTERNAL, cv2.CHAIN_APPROX_NONE)\n",
    "rgb = cv2.cvtColor(im, cv2.COLOR_BGR2RGB)\n",
    "cv2.drawContours(rgb, cnt, -1, (0, 255, 0), 2)\n",
    "\n",
    "plt.imshow(rgb);plt.axis('off')"
   ]
  },
  {
   "cell_type": "markdown",
   "metadata": {},
   "source": [
    "## Method1-Hough Gradient Method"
   ]
  },
  {
   "cell_type": "code",
   "execution_count": 6,
   "metadata": {},
   "outputs": [
    {
     "name": "stdout",
     "output_type": "stream",
     "text": [
      "[[[30 32  6]]]\n",
      "18 20 42 44\n"
     ]
    },
    {
     "data": {
      "text/plain": [
       "True"
      ]
     },
     "execution_count": 6,
     "metadata": {},
     "output_type": "execute_result"
    }
   ],
   "source": [
    "## Hough Gradient Method\n",
    "#https://docs.opencv.org/4.x/da/d53/tutorial_py_houghcircles.html\n",
    "import cv2\n",
    "import numpy as np\n",
    "image = cv2.imread('./Brownian _motion/laser/laser1_0008.tif',0)\n",
    "#image = cv2.imread('test.jpeg')\n",
    "output = image.copy()\n",
    "#image = cv2.cvtColor(image, cv2.COLOR_BGR2GRAY)\n",
    "blur = cv2.medianBlur(image,5)  \n",
    "circles = cv2.HoughCircles(blur, cv2.HOUGH_GRADIENT,1,20,\\\n",
    "                            param1=50,param2=10,minRadius=5,maxRadius=30)\n",
    "# If some circle is found\n",
    "if circles is not None:\n",
    "   # Get the (x, y, r) as integers\n",
    "   circles = np.uint16(np.around(circles))\n",
    "   print(circles)\n",
    "   # loop over the circles\n",
    "   for i in circles[0,:]:\n",
    "      # draw the outer circle\n",
    "      cv2.circle(image,(i[0],i[1]),i[2],(0,255,0),1)\n",
    "      # draw the center of the circle\n",
    "      cv2.circle(image,(i[0],i[1]),2,(168, 50, 147),1)\n",
    "      interval = 6\n",
    "      x1=i[0]-(i[2] +interval)\n",
    "      y1=i[1]-(i[2] +interval)      \n",
    "      x2=i[0]+(i[2] +interval)\n",
    "      y2=i[1]+(i[2] +interval)\n",
    "      print(x1, y1, x2, y2)\n",
    "\n",
    "\n",
    "cv2.imwrite(\"output.jpeg\",image)"
   ]
  },
  {
   "cell_type": "markdown",
   "metadata": {},
   "source": [
    "## Method2-Template Matchingin OpenCV"
   ]
  },
  {
   "cell_type": "code",
   "execution_count": null,
   "metadata": {},
   "outputs": [],
   "source": [
    "## Template Matchingin OpenCV\n",
    "#https://docs.opencv.org/4.x/d4/dc6/tutorial_py_template_matching.html\n",
    "import cv2 as cv\n",
    "import numpy as np\n",
    "from matplotlib import pyplot as plt\n",
    "img = cv.imread('messi5.jpg',0)\n",
    "img2 = img.copy()\n",
    "template = cv.imread('template.jpg',0)\n",
    "w, h = template.shape[::-1]\n",
    "# All the 6 methods for comparison in a list\n",
    "methods = ['cv.TM_CCOEFF', 'cv.TM_CCOEFF_NORMED', 'cv.TM_CCORR',\n",
    "            'cv.TM_CCORR_NORMED', 'cv.TM_SQDIFF', 'cv.TM_SQDIFF_NORMED']\n",
    "for meth in methods:\n",
    "    img = img2.copy()\n",
    "    method = eval(meth)\n",
    "    # Apply template Matching\n",
    "    res = cv.matchTemplate(img,template,method)\n",
    "    min_val, max_val, min_loc, max_loc = cv.minMaxLoc(res)\n",
    "    # If the method is TM_SQDIFF or TM_SQDIFF_NORMED, take minimum\n",
    "    if method in [cv.TM_SQDIFF, cv.TM_SQDIFF_NORMED]:\n",
    "        top_left = min_loc\n",
    "    else:\n",
    "        top_left = max_loc\n",
    "    bottom_right = (top_left[0] + w, top_left[1] + h)\n",
    "    cv.rectangle(img,top_left, bottom_right, 255, 2)\n",
    "    plt.subplot(121),plt.imshow(res,cmap = 'gray')\n",
    "    plt.title('Matching Result'), plt.xticks([]), plt.yticks([])\n",
    "    plt.subplot(122),plt.imshow(img,cmap = 'gray')\n",
    "    plt.title('Detected Point'), plt.xticks([]), plt.yticks([])\n",
    "    plt.suptitle(meth)\n",
    "    plt.show()"
   ]
  },
  {
   "cell_type": "markdown",
   "metadata": {},
   "source": [
    "## Track"
   ]
  },
  {
   "cell_type": "code",
   "execution_count": 46,
   "metadata": {},
   "outputs": [],
   "source": [
    "def Track(SrcFolder, OutFolder,OutName=\"test\" ,SavePlot=True):\n",
    "    Corr =[0,0,0,0,0,0,0]\n",
    "    list_x ,list_y = [],[]\n",
    "\n",
    "    #---------ROI section--------------------------------------------------------------------------------\n",
    "    FileNumber = len(os.listdir(SrcFolder))\n",
    "    ROI_INDEX = np.random.randint(0,FileNumber)\n",
    "\n",
    "    template = ReadGrayImg(f\"{SrcFolder}/{sorted(os.listdir(SrcFolder))[ROI_INDEX]}\", False)        \n",
    "    output = cv2.cvtColor(template, cv2.COLOR_GRAY2BGR)\n",
    "    blur = cv2.medianBlur(template,5)  \n",
    "    circles = cv2.HoughCircles(blur, cv2.HOUGH_GRADIENT,1,20,param1=50,param2=10,minRadius=3,maxRadius=20)\n",
    "    print(\"////\"*18)\n",
    "    print(f\"Currenet analysis image: {OutName}\")\n",
    "    if circles is not None:\n",
    "        # Get the (x, y, r) as integers\n",
    "        circles = np.uint16(np.around(circles))\n",
    "        #print(circles)\n",
    "        # loop over the circles\n",
    "        for i in circles[0,:]:\n",
    "            cv2.circle(output,(i[0],i[1]),i[2],(100, 103, 227),-1) # draw outer\n",
    "            #cv2.circle(image, center_coordinates, radius, color, thickness)\n",
    "            #Thickness of -1 px will fill the circle shape by the specified color.\n",
    "            cv2.circle(output,(i[0],i[1]),1,(255,0,0),1) # draw center\n",
    "            interval = 3\n",
    "            x1= i[0] - (i[2]+interval); Corr[0]=x1\n",
    "            x2= i[0] + (i[2]+interval); Corr[2]=x2\n",
    "            y1= i[1] - (i[2]+interval); Corr[1]=y1\n",
    "            y2= i[1] + (i[2]+interval); Corr[3]=y2\n",
    "            Corr[4]=i[0] # center X\n",
    "            Corr[5]=i[1] # center Y\n",
    "            Corr[5]=i[2] # circle radius\n",
    "\n",
    "            print(f\"CenterX,CenterY:({i[0]},{i[1]}); radius:{i[2]}; x1,y1:({x1},{y1}), (x2,y2):({x2},{y2})\")\n",
    "\n",
    "        \n",
    "    #cv2.imwrite(f\"./Export/TrackFile/ROI/{OutName}_ROI.jpeg\",output)\n",
    "    roi = template.copy()\n",
    "    cv2.circle(roi,(Corr[4],Corr[5]),Corr[6],(255, 0, 0),-1)\n",
    "    roi = np.asarray(roi)[Corr[1]:Corr[3], Corr[0]:Corr[2]] #26:44,18:34]# opposite input seleciton\n",
    "    roi = cv2.GaussianBlur(roi,(5,5),0)  \n",
    "    #roi = Toolkits.xdog_garygrossi(roi,sigma=0.5,k=200, gamma=0.98,epsilon=0.1,phi=10)\n",
    "\n",
    "    #---------NormalXCorr--------------------------------------------------------------------------------\n",
    "    for filename in sorted(os.listdir(SrcFolder)):\n",
    "        #num1, num2 = str(index).zfill(4), str(index+1).zfill(4)\n",
    "        image = ReadGrayImg(f\"{SrcFolder}/{filename}\", False)\n",
    "        imarray1 = np.asarray(image)\n",
    "        imarray1 = cv2.GaussianBlur(imarray1,(7,7),0)\n",
    "        #kernel = np.ones((3,3), np.uint8)\n",
    "        #imarray1 = cv2.erode(imarray1, kernel, iterations = 1)\n",
    "        #imarray1 = cv2.dilate(imarray1, kernel, iterations = 1)\n",
    "        #imarray1 = Toolkits.xdog_garygrossi(imarray1,sigma=0.5,k=200, gamma=0.98,epsilon=0.1,phi=10)\n",
    "                   \n",
    "        #Cross correlation\n",
    "        corr = normxcorr2(roi, imarray1, mode=\"same\")\n",
    "        y, x = np.unravel_index(np.argmax(corr), corr.shape)  # find the match\n",
    "        #print(f\"x:{x},y:{y}\")\n",
    "        list_x.append(x),list_y.append(y)\n",
    "        \n",
    "        if SavePlot == True:\n",
    "            fig, (ax_orig, ax_corr) = plt.subplots(1, 2)\n",
    "            ax_orig.imshow(imarray1, cmap='gray')\n",
    "            ax_orig.set_title(f'{filename}(Image)')\n",
    "            ax_orig.plot(x, y, 'ro',linewidth=2, markersize=12)\n",
    "            ax_orig.set_axis_off()\n",
    "\n",
    "            ax_corr.imshow(roi, cmap='gray')\n",
    "            ax_corr.set_title(f'No.{ROI_INDEX}(ROI/Template)')\n",
    "            ax_corr.set_axis_off()\n",
    "            fig.tight_layout()\n",
    "            filename = filename.replace(\".tif\",\"\")\n",
    "            plt.savefig(f\"{OutFolder}/{OutName}/{filename}.png\", bbox_inches='tight')\n",
    "            plt.cla()\n",
    "            plt.close(fig)         \n",
    "    print(f\"image shape:{imarray1.shape}, ROI:{roi.shape}\\n\")\n",
    "    return list_x, list_y"
   ]
  },
  {
   "cell_type": "code",
   "execution_count": 94,
   "metadata": {},
   "outputs": [],
   "source": [
    "#for interval in range(0,100): # Delta 1-100\n",
    "\n",
    "X =[-14,1,2,2,-7,1]\n",
    "Y =[-9,-3,-6,-6,-9,-5]\n",
    "\n",
    "def cal(X ,Y, filename,length=len(X)):\n",
    "    sol=[];y=[]\n",
    "    #interval = 1 # loop over every possibel interval\n",
    "    for interval in range(1,length): \n",
    "        dx1=[];dy1=[];avg_x=0;avg_y=0   \n",
    "        for i in range(0,length):\n",
    "            if (i+interval) < length:\n",
    "                dx1.append(int(X[i+interval] - X[i]) **2)\n",
    "                dy1.append(int(Y[i+interval] - Y[i]) **2)\n",
    "        #print(dx1,dy1)\n",
    "        avg_x = sum(dx1)/len(dx1)\n",
    "        avg_y = sum(dy1)/len(dy1)\n",
    "        sol.append(avg_x + avg_y)\n",
    "        #print(avg_x,avg_y)\n",
    "    \n",
    "    y = sol\n",
    "    x = np.linspace(1,length-1,length-1)\n",
    "    fig = plt.figure(figsize=(10,5))\n",
    "    plt.plot(x,y) \n",
    "    plt.title(f\"{filename}\")\n",
    "    plt.xlabel(\"Time interval\"); plt.ylabel(\"MSD\")\n",
    "    plt.axis([1,length,min(y)*0.8,max(y)*1.2])\n",
    "    plt.show()\n",
    "    fig.savefig(f\"{Root2}/TrackFile/{filename}.png\")       \n",
    "    return sol\n"
   ]
  },
  {
   "cell_type": "code",
   "execution_count": 93,
   "metadata": {},
   "outputs": [
    {
     "name": "stdout",
     "output_type": "stream",
     "text": [
      "////////////////////////////////////////////////////////////////////////\n",
      "Currenet analysis image: 1\n",
      "CenterX,CenterY:(38,34); radius:11; x1,y1:(24,20), (x2,y2):(52,48)\n",
      "image shape:(64, 64), ROI:(28, 28)\n",
      "\n"
     ]
    },
    {
     "name": "stderr",
     "output_type": "stream",
     "text": [
      "/var/folders/1z/by3dhv6x3fsfqlxysgxnx1y80000gn/T/ipykernel_62447/1499092305.py:28: UserWarning: Attempting to set identical bottom == top == 0.0 results in singular transformations; automatically expanding.\n",
      "  plt.axis([1,length,min(y)*0.8,max(y)*1.2])\n"
     ]
    },
    {
     "data": {
      "image/png": "[encoded data removed]",
      "text/plain": [
       "<Figure size 576x432 with 1 Axes>"
      ]
     },
     "metadata": {
      "needs_background": "light"
     },
     "output_type": "display_data"
    },
    {
     "name": "stdout",
     "output_type": "stream",
     "text": [
      "////////////////////////////////////////////////////////////////////////\n",
      "Currenet analysis image: 2\n",
      "CenterX,CenterY:(26,40); radius:6; x1,y1:(17,31), (x2,y2):(35,49)\n",
      "image shape:(64, 64), ROI:(18, 18)\n",
      "\n"
     ]
    },
    {
     "data": {
      "image/png": "[encoded data removed]",
      "text/plain": [
       "<Figure size 576x432 with 1 Axes>"
      ]
     },
     "metadata": {
      "needs_background": "light"
     },
     "output_type": "display_data"
    },
    {
     "name": "stdout",
     "output_type": "stream",
     "text": [
      "////////////////////////////////////////////////////////////////////////\n",
      "Currenet analysis image: 3\n",
      "CenterX,CenterY:(28,40); radius:11; x1,y1:(14,26), (x2,y2):(42,54)\n",
      "image shape:(64, 64), ROI:(28, 28)\n",
      "\n"
     ]
    },
    {
     "data": {
      "image/png": "[encoded data removed]",
      "text/plain": [
       "<Figure size 576x432 with 1 Axes>"
      ]
     },
     "metadata": {
      "needs_background": "light"
     },
     "output_type": "display_data"
    },
    {
     "name": "stdout",
     "output_type": "stream",
     "text": [
      "////////////////////////////////////////////////////////////////////////\n",
      "Currenet analysis image: 4\n",
      "CenterX,CenterY:(34,44); radius:10; x1,y1:(21,31), (x2,y2):(47,57)\n",
      "image shape:(64, 64), ROI:(26, 26)\n",
      "\n"
     ]
    },
    {
     "data": {
      "image/png": "[encoded data removed]",
      "text/plain": [
       "<Figure size 576x432 with 1 Axes>"
      ]
     },
     "metadata": {
      "needs_background": "light"
     },
     "output_type": "display_data"
    },
    {
     "name": "stdout",
     "output_type": "stream",
     "text": [
      "////////////////////////////////////////////////////////////////////////\n",
      "Currenet analysis image: 5\n",
      "CenterX,CenterY:(24,24); radius:11; x1,y1:(10,10), (x2,y2):(38,38)\n",
      "image shape:(64, 64), ROI:(28, 28)\n",
      "\n"
     ]
    },
    {
     "data": {
      "image/png": "[encoded data removed]",
      "text/plain": [
       "<Figure size 576x432 with 1 Axes>"
      ]
     },
     "metadata": {
      "needs_background": "light"
     },
     "output_type": "display_data"
    },
    {
     "name": "stdout",
     "output_type": "stream",
     "text": [
      "////////////////////////////////////////////////////////////////////////\n",
      "Currenet analysis image: Free\n",
      "CenterX,CenterY:(34,22); radius:7; x1,y1:(24,12), (x2,y2):(44,32)\n",
      "image shape:(65, 65), ROI:(20, 20)\n",
      "\n"
     ]
    },
    {
     "data": {
      "image/png": "[encoded data removed]",
      "text/plain": [
       "<Figure size 576x432 with 1 Axes>"
      ]
     },
     "metadata": {
      "needs_background": "light"
     },
     "output_type": "display_data"
    },
    {
     "name": "stdout",
     "output_type": "stream",
     "text": [
      "////////////////////////////////////////////////////////////////////////\n",
      "Currenet analysis image: Laser\n",
      "CenterX,CenterY:(30,32); radius:6; x1,y1:(21,23), (x2,y2):(39,41)\n",
      "image shape:(65, 65), ROI:(18, 18)\n",
      "\n"
     ]
    },
    {
     "data": {
      "image/png": "[encoded data removed]",
      "text/plain": [
       "<Figure size 576x432 with 1 Axes>"
      ]
     },
     "metadata": {
      "needs_background": "light"
     },
     "output_type": "display_data"
    }
   ],
   "source": [
    "from utils import *\n",
    "import numpy as np\n",
    "import matplotlib.pyplot as plt\n",
    "\n",
    "Root1 = \"./Brownian_motion\"\n",
    "Root2 = \"./Export\"\n",
    "groups = ['1', '2', '3', '4', '5','Free','Laser'] # Named after group\n",
    "\n",
    "for index in groups:\n",
    "    SrcFolder=f\"./Brownian_motion/{index}\"\n",
    "    OutFolder=f\"{Root2}/TrackFile\"\n",
    "    X,Y = Track(SrcFolder, OutFolder, OutName=f\"{index}\", SavePlot=True)\n",
    "    cal(X ,Y, index,length=len(X))"
   ]
  },
  {
   "cell_type": "code",
   "execution_count": null,
   "metadata": {},
   "outputs": [],
   "source": [
    "# Rename filename\n",
    "folder=\"/Users/samchen/Documents/Code/Projects/Single_Particle_Tracking/Brownian_motion/5\"\n",
    "for file in sorted(os.listdir(folder)):\n",
    "    NewName = file.replace(\"raw data_\",\"\")\n",
    "    os.rename(f\"{folder}/{file}\",f\"{folder}/{NewName}\")\n",
    "## Check revision result\n",
    "#for file in sorted(os.listdir(folder)):\n",
    "#    print(file)"
   ]
  }
 ],
 "metadata": {
  "kernelspec": {
   "display_name": "Python 3.9.13 ('ml')",
   "language": "python",
   "name": "python3"
  },
  "language_info": {
   "codemirror_mode": {
    "name": "ipython",
    "version": 3
   },
   "file_extension": ".py",
   "mimetype": "text/x-python",
   "name": "python",
   "nbconvert_exporter": "python",
   "pygments_lexer": "ipython3",
   "version": "3.9.13"
  },
  "vscode": {
   "interpreter": {
    "hash": "37532127458b7207c1b5f5d635315dc52f817a5525fa1cbe3d266991ee53b359"
   }
  }
 },
 "nbformat": 4,
 "nbformat_minor": 2
}
